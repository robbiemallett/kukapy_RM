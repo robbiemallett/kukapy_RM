{
 "cells": [
  {
   "cell_type": "code",
   "execution_count": 1,
   "id": "b480cfa3-8720-4e5d-a44d-61644e6aff81",
   "metadata": {},
   "outputs": [],
   "source": [
    "import os\n",
    "import numpy as np\n",
    "import sys\n",
    "import scatlib\n",
    "from netCDF4 import Dataset"
   ]
  },
  {
   "cell_type": "code",
   "execution_count": 4,
   "id": "6fe6c5ca-6ba6-42c6-bda5-1ffaa01e81c7",
   "metadata": {},
   "outputs": [],
   "source": [
    "\n"
   ]
  },
  {
   "cell_type": "code",
   "execution_count": 7,
   "id": "61e38210-f4f8-4065-939d-3aa193124297",
   "metadata": {},
   "outputs": [
    {
     "name": "stdout",
     "output_type": "stream",
     "text": [
      "Reading SCAT_IDL_config....\n",
      "Reading Ku-SCAT_IDL_config\n",
      "AD clock frequency (MHz):  20.0\n",
      "AD trig delay (ns):  4000\n",
      "chirp bandwidth (MHz):  6000.0\n",
      "chirp center frequency (MHz):  15000.0\n",
      "chirp amplitude dbm:  0.0\n",
      "chirp width (ms):  2.0\n",
      "decimation:  32\n",
      "decimation mode:  0\n",
      "frame delay (ms):  500.0\n",
      "number of time samples per sweep (n_gates):  1250\n",
      "pulse repetition period (ms):  2.2\n",
      "nominal range resolution (c_light/2/chirp_bandwidth, m):  0.025\n",
      "server state, 0=idle# 1=record:  1\n",
      "chirp bandwidth (MHz):  6000.0\n",
      "antenna beamwidth, (deg):  16.9\n",
      "corner reflector radar cross section (square meters):  16.77\n",
      "pedestal_max_speed (deg/s):  8.0\n",
      "pedestal height (m):  1.09\n",
      "======================================================================\n",
      "Meta Header Size 146\n",
      "start time:  1600055899  seconds\n",
      "nano-seconds:  194124674\n",
      "reading block number:  0  time:  Mon Sep 14 3:58:19  2020\n",
      "reading block number:  100  time:  Mon Sep 14 3:59:50  2020\n",
      "reading block number:  200  time:  Mon Sep 14 3:59:52  2020\n",
      "reading block number:  300  time:  Mon Sep 14 4:0:38  2020\n",
      "reading block number:  400  time:  Mon Sep 14 4:1:25  2020\n",
      "reading block number:  500  time:  Mon Sep 14 4:2:11  2020\n",
      "reading block number:  600  time:  Mon Sep 14 4:2:58  2020\n",
      "reading block number:  700  time:  Mon Sep 14 4:3:44  2020\n",
      "SUCCESSFULLY WRITTEN\n",
      "Reading SCAT_IDL_config....\n",
      "Reading Ka-SCAT_IDL_config\n",
      "AD clock frequency (MHz):  20.0\n",
      "AD trig delay (ns):  4000\n",
      "chirp bandwidth (MHz):  10000.0\n",
      "chirp center frequency (MHz):  35000.0\n",
      "chirp amplitude dbm:  -15.0\n",
      "chirp width (ms):  2.0\n",
      "decimation:  16\n",
      "decimation mode:  0\n",
      "frame delay (ms):  200.0\n",
      "number of time samples per sweep (n_gates):  2500\n",
      "pulse repetition period (ms):  2.2\n",
      "nominal range resolution (c_light/2/chirp_bandwidth, m):  0.015\n",
      "server state, 0=idle# 1=record:  1\n",
      "chirp bandwidth (MHz):  10000.0\n",
      "antenna beamwidth, (deg):  11.9\n",
      "corner reflector radar cross section (square meters):  91.35\n",
      "pedestal_max_speed (deg/s):  8.0\n",
      "pedestal height (m):  1.4\n",
      "======================================================================\n",
      "Meta Header Size 146\n",
      "start time:  1600002116  seconds\n",
      "nano-seconds:  508352329\n",
      "reading block number:  0  time:  Sun Sep 13 13:1:56  2020\n",
      "reading block number:  100  time:  Sun Sep 13 13:2:22  2020\n",
      "reading block number:  200  time:  Sun Sep 13 13:2:48  2020\n",
      "reading block number:  300  time:  Sun Sep 13 13:3:14  2020\n",
      "reading block number:  400  time:  Sun Sep 13 13:3:40  2020\n",
      "reading block number:  500  time:  Sun Sep 13 13:4:60  2020\n",
      "reading block number:  600  time:  Sun Sep 13 13:4:32  2020\n",
      "reading block number:  700  time:  Sun Sep 13 13:4:58  2020\n",
      "reading block number:  800  time:  Sun Sep 13 13:5:25  2020\n",
      "reading block number:  900  time:  Sun Sep 13 13:5:51  2020\n",
      "reading block number:  1000  time:  Sun Sep 13 13:6:17  2020\n",
      "reading block number:  1100  time:  Sun Sep 13 13:6:43  2020\n",
      "reading block number:  1200  time:  Sun Sep 13 13:7:80  2020\n",
      "reading block number:  1300  time:  Sun Sep 13 13:7:34  2020\n",
      "SUCCESSFULLY WRITTEN\n"
     ]
    }
   ],
   "source": [
    "# iscat = input(\"enter 1 for Ku-Scat; 2 for Ka-Scat: \")\n",
    "\n",
    "\n",
    "raw_path = 'testing/Raw_Canonical/scan/'\n",
    "proc_path = 'testing/Raw_nc/'\n",
    "\n",
    "files = os.listdir(raw_path)\n",
    "files\n",
    "\n",
    "for filename in files:\n",
    "\n",
    "    if 'KA-SCAT' in filename:\n",
    "        iscat = 2\n",
    "    elif 'KU-SCAT' in filename:\n",
    "        iscat = 1\n",
    "    else:\n",
    "        iscat = 0\n",
    "\n",
    "    if iscat > 0:\n",
    "            \n",
    "        configvars = scatlib.read_configuration(iscat)\n",
    "        \n",
    "        configvars[\"raw_data_path\"] = raw_path\n",
    "        configvars[\"processed_data_path\"] = proc_path\n",
    "        # configvars[\"raw_data_path\"] = sys.argv[1]\n",
    "        # configvars[\"processed_data_path\"] = sys.argv[2]\n",
    "        \n",
    "        instrument_name = configvars[\"instrument_name\"]\n",
    "        calfile = configvars[\"calfile\"]    #pass this as plain variable since it may get modified if creating a new calfile\n",
    "        raw_data_path = configvars[\"raw_data_path\"]\n",
    "        processed_data_path = configvars[\"processed_data_path\"]\n",
    "    \n",
    "        try:\n",
    "            ## READ_HEADER\n",
    "            \n",
    "            header_output = scatlib.read_header(raw_path+filename, raw_data_path, configvars)\n",
    "    \n",
    "            # rcw get the reference_calibration_loop_power_file         \n",
    "            reference_calibration_loop_power_file = 10**(header_output[1][\"cal_peak_dbm\"]/10.)  \n",
    "    \n",
    "            ## READ_RAW\n",
    "    \n",
    "            raw_output =  scatlib.read_raw(configvars, header_output[0],raw_path+filename,\n",
    "                                                     header_output[3], header_output[4])\n",
    "    \n",
    "            write_nc(configvars,filename,raw_output,header_output)\n",
    "            print('SUCCESSFULLY WRITTEN')\n",
    "    \n",
    "        except Exception as e:\n",
    "            print(filename)\n",
    "            print(e)"
   ]
  },
  {
   "cell_type": "code",
   "execution_count": 13,
   "id": "36c0d007-22cb-48a8-9317-9fc2713ac969",
   "metadata": {},
   "outputs": [
    {
     "data": {
      "text/plain": [
       "(782, 6, 1250)"
      ]
     },
     "execution_count": 13,
     "metadata": {},
     "output_type": "execute_result"
    }
   ],
   "source": [
    "d = Dataset('/home/robbie/kukapy_RM/testing/Raw_nc/KU-SCAT-20200914-035819.nc')\n",
    "d['counts'].shape"
   ]
  }
 ],
 "metadata": {
  "kernelspec": {
   "display_name": "Python 3 (ipykernel)",
   "language": "python",
   "name": "python3"
  },
  "language_info": {
   "codemirror_mode": {
    "name": "ipython",
    "version": 3
   },
   "file_extension": ".py",
   "mimetype": "text/x-python",
   "name": "python",
   "nbconvert_exporter": "python",
   "pygments_lexer": "ipython3",
   "version": "3.8.18"
  }
 },
 "nbformat": 4,
 "nbformat_minor": 5
}
